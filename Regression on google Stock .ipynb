{
 "cells": [
  {
   "cell_type": "code",
   "execution_count": 14,
   "metadata": {},
   "outputs": [],
   "source": [
    "import pandas as pd\n",
    "import quandl\n",
    "import math"
   ]
  },
  {
   "cell_type": "code",
   "execution_count": 16,
   "metadata": {},
   "outputs": [],
   "source": [
    "def getting_quandl_data():\n",
    "\n",
    "    \"\"\"\n",
    "    fetching google stock data from quandl wiki websites\n",
    "    It is free data \n",
    "    Saving the stocks data in csv in data folder\n",
    "    \"\"\"\n",
    "    \n",
    "    df = quandl.get(\"WIKI/GOOGL\")\n",
    "    df.to_csv(\"./data/google_stocks_data.csv\",index=False)\n",
    "    return df\n",
    "\n",
    "def filtering_columns(df):\n",
    "    \"\"\"\n",
    "    filtering columns \n",
    "    using only required columns\n",
    "    \n",
    "    \"\"\"\n",
    "    df = df[['Adj. Open', 'Adj. High', 'Adj. Low', 'Adj. Close', 'Adj. Volume']]\n",
    "    return df\n",
    "\n",
    "def adding_pct_chg(df):\n",
    "    \"\"\"\n",
    "    Creating PCT_change feature\n",
    "    ((Adj.close/Adj.open) -1) *100\n",
    "    \"\"\"\n",
    "    df['PCT_change'] = (df['Adj. Close']-df['Adj. Open']) / df['Adj. Close'] * 100\n",
    "    return df\n",
    "\n",
    "def high_close_pct(df):\n",
    "    \"\"\" \n",
    "    Creating HL_PCT feature\n",
    "    ((Adj.High/Adj.Close) -1) *100\n",
    "    \"\"\"\n",
    "    \n",
    "    df['HL_PCT'] = (df['Adj. High'] - df['Adj. Close'])/ df['Adj. Close'] *100\n",
    "    return df\n",
    "\n",
    "def filling_data(df):\n",
    "    \"\"\"\n",
    "    filling NaNs because ML models cannot understand NaNs\n",
    "    \"\"\"\n",
    "    df.fillna(-99999,inplace=True)\n",
    "    return df\n",
    "\n",
    "def creating_forecast_out(df,pct_no):\n",
    "    \"\"\"\n",
    "    actually this forecast_out is used to bring future  Adj.Close in front of rows as a target /label \n",
    "    \"\"\"\n",
    "    \n",
    "    forecast_out = math.ceil(pct_no * len(df))\n",
    "    return forecast_out\n",
    "\n",
    "def adding_label_target(df,forecast_col,forecast_out):\n",
    "    \"\"\"\n",
    "    shifting future data in front of row\n",
    "    \"\"\"\n",
    "    df['label'] = df[forecast_col].shift(-forecast_out)\n",
    "    df.dropna(inplace=True)\n",
    "    return df\n"
   ]
  },
  {
   "cell_type": "code",
   "execution_count": null,
   "metadata": {},
   "outputs": [],
   "source": []
  },
  {
   "cell_type": "code",
   "execution_count": null,
   "metadata": {},
   "outputs": [],
   "source": []
  }
 ],
 "metadata": {
  "kernelspec": {
   "display_name": "Python 3",
   "language": "python",
   "name": "python3"
  },
  "language_info": {
   "codemirror_mode": {
    "name": "ipython",
    "version": 3
   },
   "file_extension": ".py",
   "mimetype": "text/x-python",
   "name": "python",
   "nbconvert_exporter": "python",
   "pygments_lexer": "ipython3",
   "version": "3.7.6"
  }
 },
 "nbformat": 4,
 "nbformat_minor": 4
}
