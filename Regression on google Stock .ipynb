{
 "cells": [
  {
   "cell_type": "code",
   "execution_count": 17,
   "metadata": {},
   "outputs": [],
   "source": [
    "import pandas as pd\n",
    "import quandl\n",
    "import math\n",
    "from sklearn import preprocessing\n",
    "from sklearn.model_selection import train_test_split\n",
    "from sklearn.linear_model import LinearRegression"
   ]
  },
  {
   "cell_type": "markdown",
   "metadata": {},
   "source": [
    "## This is the implementation of Sentdex Yotube channel Machine Learning Playlist\n",
    "https://www.youtube.com/watch?v=r4mwkS2T9aI&list=PLQVvvaa0QuDfKTOs3Keq_kaG2P55YRn5v&index=4\n",
    "\n",
    "#### First 1-6 Videos of this Playlist is about applying Linear Regression on google stocks data\n"
   ]
  },
  {
   "cell_type": "code",
   "execution_count": 44,
   "metadata": {},
   "outputs": [],
   "source": [
    "def getting_quandl_data():\n",
    "\n",
    "    \"\"\"\n",
    "    fetching google stock data from quandl wiki websites\n",
    "    It is free data \n",
    "    Saving the stocks data in csv in data folder\n",
    "    \"\"\"\n",
    "    \n",
    "    df = quandl.get(\"WIKI/GOOGL\")\n",
    "    df.to_csv(\"./data/google_stocks_data.csv\",index=False)\n",
    "    return df\n",
    "\n",
    "def filtering_columns(df):\n",
    "    \"\"\"\n",
    "    filtering columns \n",
    "    using only required columns\n",
    "    \n",
    "    \"\"\"\n",
    "    df = df[['Adj. Open', 'Adj. High', 'Adj. Low', 'Adj. Close', 'Adj. Volume']]\n",
    "    return df\n",
    "\n",
    "def adding_pct_chg(df):\n",
    "    \"\"\"\n",
    "    Creating PCT_change feature\n",
    "    ((Adj.close/Adj.open) -1) *100\n",
    "    \"\"\"\n",
    "    df['PCT_change'] = (df['Adj. Close']-df['Adj. Open']) / df['Adj. Close'] * 100\n",
    "    return df\n",
    "\n",
    "def high_close_pct(df):\n",
    "    \"\"\" \n",
    "    Creating HL_PCT feature\n",
    "    ((Adj.High/Adj.Close) -1) *100\n",
    "    \"\"\"\n",
    "    \n",
    "    df['HL_PCT'] = (df['Adj. High'] - df['Adj. Close'])/ df['Adj. Close'] *100\n",
    "    return df\n",
    "\n",
    "def filling_data(df):\n",
    "    \"\"\"\n",
    "    filling NaNs because ML models cannot understand NaNs\n",
    "    \"\"\"\n",
    "    df.fillna(-99999,inplace=True)\n",
    "    return df\n",
    "\n",
    "def creating_forecast_out(df,pct_no=0.01):\n",
    "    \"\"\"\n",
    "    actually this forecast_out is used to bring future  Adj.Close in front of rows as a target /label \n",
    "    \"\"\"\n",
    "    \n",
    "    forecast_out = math.ceil(pct_no * len(df))\n",
    "    return forecast_out\n",
    "\n",
    "def adding_label_target(df,forecast_col,forecast_out):\n",
    "    \"\"\"\n",
    "    shifting future data in front of row\n",
    "    \"\"\"\n",
    "    df['label'] = df[forecast_col].shift(-forecast_out)\n",
    "    df.dropna(inplace=True)\n",
    "    return df\n",
    "\n",
    "def creating_X_y_data(df):\n",
    "    \"\"\"\n",
    "    separating Df into label and features\n",
    "    \"\"\"\n",
    "    y = df['label'].values\n",
    "    df.drop(['label'],axis=1,inplace=True)\n",
    "    X = df.values\n",
    "    return X,y\n",
    "\n",
    "def spliting_data_into_train_test(X,y,test_size=0.2):\n",
    "    \"\"\"\n",
    "    creating train and test data\n",
    "    \"\"\"\n",
    "    X_train,X_test,y_train,y_test = train_test_split(X,y,test_size=test_size)\n",
    "    return X_train,X_test,y_train,y_test\n",
    "\n",
    "def linear_regression_model(X_train,y_train,X_test,y_test):\n",
    "    \"\"\"\n",
    "    training Linear Regression Model \n",
    "    \"\"\"\n",
    "    \n",
    "    model = LinearRegression()\n",
    "    model.fit(X_train,y_train)\n",
    "    accuracy = model.score(X_test,y_test)\n",
    "    return model,accuracy"
   ]
  },
  {
   "cell_type": "code",
   "execution_count": 45,
   "metadata": {},
   "outputs": [],
   "source": [
    "forecast_col = 'Adj. Close'\n",
    "df = getting_quandl_data()\n",
    "df = filtering_columns(df)\n",
    "df = adding_pct_chg(df)\n",
    "df = high_close_pct(df)\n",
    "df = filling_data(df)\n",
    "forecast_out = creating_forecast_out(df)\n",
    "df = adding_label_target(df,forecast_col,forecast_out)\n",
    "X,y = creating_X_y_data(df)\n",
    "X_train,X_test,y_train,y_test = spliting_data_into_train_test(X,y)\n",
    "model,accuracy = linear_regression_model(X_train,y_train,X_test,y_test)"
   ]
  },
  {
   "cell_type": "code",
   "execution_count": 46,
   "metadata": {},
   "outputs": [
    {
     "name": "stdout",
     "output_type": "stream",
     "text": [
      "accuract is 0.9751356508749678\n"
     ]
    }
   ],
   "source": [
    "print(\"accuract is {}\".format(accuracy))"
   ]
  },
  {
   "cell_type": "code",
   "execution_count": null,
   "metadata": {},
   "outputs": [],
   "source": []
  }
 ],
 "metadata": {
  "kernelspec": {
   "display_name": "Python 3",
   "language": "python",
   "name": "python3"
  },
  "language_info": {
   "codemirror_mode": {
    "name": "ipython",
    "version": 3
   },
   "file_extension": ".py",
   "mimetype": "text/x-python",
   "name": "python",
   "nbconvert_exporter": "python",
   "pygments_lexer": "ipython3",
   "version": "3.7.6"
  }
 },
 "nbformat": 4,
 "nbformat_minor": 4
}
