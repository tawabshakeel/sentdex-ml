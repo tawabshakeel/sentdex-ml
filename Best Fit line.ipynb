{
 "cells": [
  {
   "cell_type": "code",
   "execution_count": 1,
   "metadata": {},
   "outputs": [],
   "source": [
    "import pandas as pd\n",
    "from statistics import mean\n",
    "import numpy as np\n",
    "import matplotlib.pyplot as plt\n",
    "import random"
   ]
  },
  {
   "cell_type": "code",
   "execution_count": 16,
   "metadata": {},
   "outputs": [],
   "source": [
    "def create_data_set(how_many_points,variance,step=2,correlation=False):\n",
    "    val = 1\n",
    "    ys = []\n",
    "    for i in range(how_many_points):\n",
    "        y = val + random.randrange(-variance,variance)\n",
    "        ys.append(y)\n",
    "        if correlation and correlation =='pos':\n",
    "            val+=step\n",
    "        elif correlation and correlation=='neg':\n",
    "            val-=step\n",
    "    xs = [i for i in range(len(ys))]\n",
    "    ys = np.array(ys,dtype=np.float)\n",
    "    xs = np.array(xs,dtype=np.float)\n",
    "    \n",
    "    return xs,ys\n",
    "\n",
    "def slope(x,y):\n",
    "    slope_val = ((mean(x) * mean(y)) - mean(x*y))/ ((mean(x)**2)-mean(x**2))\n",
    "    return slope_val\n",
    "def y_intercept(x,y,slope):\n",
    "    b = mean(y) - (slope*mean(x))\n",
    "    return b\n",
    "def squared_error(y_orig,y_line):\n",
    "    return sum((y_line-y_orig)**2)\n",
    "\n",
    "def best_fit_line(xs):\n",
    "    regression_line = [(m*x) +b for x in xs]\n",
    "    return regression_line\n",
    "\n",
    "def coefficient_of_determination(y_orig,y_line):\n",
    "    \"\"\"\n",
    "    # formula is 1 - (squared error regression/ squared_error_mean)\n",
    "    \"\"\"\n",
    "    y_mean_line = [mean(y_orig) for y in y_orig]\n",
    "    sq_err_reg = squared_error(y_orig,y_line)\n",
    "    sq_err_mean= squared_error(y_orig,y_mean_line)\n",
    "    return 1-(sq_err_reg/sq_err_mean)\n"
   ]
  },
  {
   "cell_type": "code",
   "execution_count": 23,
   "metadata": {},
   "outputs": [],
   "source": [
    "# x = np.array([1,2,3,4,5,6],dtype=np.float)\n",
    "# y = np.array([5,4,6,5,6,7],dtype=np.float)\n",
    "x,y = create_data_set(40,10,2,correlation='pos')"
   ]
  },
  {
   "cell_type": "code",
   "execution_count": 24,
   "metadata": {},
   "outputs": [],
   "source": [
    "m = slope(x,y)\n",
    "b = y_intercept(x,y,m)\n",
    "regression_line = best_fit_line(x)"
   ]
  },
  {
   "cell_type": "code",
   "execution_count": 25,
   "metadata": {},
   "outputs": [
    {
     "name": "stdout",
     "output_type": "stream",
     "text": [
      "Gradient is 1.9440900562851788 and y intercept is 1.1402439024390105\n"
     ]
    }
   ],
   "source": [
    "print(\"Gradient is {} and y intercept is {}\".format(m,b))"
   ]
  },
  {
   "cell_type": "code",
   "execution_count": 26,
   "metadata": {},
   "outputs": [],
   "source": [
    "r2_val = coefficient_of_determination(y,regression_line)"
   ]
  },
  {
   "cell_type": "code",
   "execution_count": 27,
   "metadata": {},
   "outputs": [
    {
     "name": "stdout",
     "output_type": "stream",
     "text": [
      "r2 value is 0.9394998187300108 \n"
     ]
    }
   ],
   "source": [
    "print(\"r2 value is {} \".format(r2_val))"
   ]
  },
  {
   "cell_type": "code",
   "execution_count": 28,
   "metadata": {},
   "outputs": [
    {
     "data": {
      "image/png": "[encoded data removed]",
      "text/plain": [
       "<Figure size 432x288 with 1 Axes>"
      ]
     },
     "metadata": {
      "needs_background": "light"
     },
     "output_type": "display_data"
    }
   ],
   "source": [
    "plt.scatter(x,y)\n",
    "plt.plot(x,regression_line)\n",
    "plt.show()"
   ]
  },
  {
   "cell_type": "code",
   "execution_count": null,
   "metadata": {},
   "outputs": [],
   "source": []
  }
 ],
 "metadata": {
  "kernelspec": {
   "display_name": "Python 3",
   "language": "python",
   "name": "python3"
  },
  "language_info": {
   "codemirror_mode": {
    "name": "ipython",
    "version": 3
   },
   "file_extension": ".py",
   "mimetype": "text/x-python",
   "name": "python",
   "nbconvert_exporter": "python",
   "pygments_lexer": "ipython3",
   "version": "3.7.6"
  }
 },
 "nbformat": 4,
 "nbformat_minor": 4
}
