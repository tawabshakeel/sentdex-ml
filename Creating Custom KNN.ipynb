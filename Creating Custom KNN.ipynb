{
 "cells": [
  {
   "cell_type": "code",
   "execution_count": 4,
   "metadata": {},
   "outputs": [],
   "source": [
    "import numpy as np\n",
    "import pandas as pd\n",
    "import matplotlib.pyplot as plt\n",
    "import random\n",
    "from collections import Counter"
   ]
  },
  {
   "cell_type": "code",
   "execution_count": 2,
   "metadata": {},
   "outputs": [],
   "source": [
    "dataset = {\"k\":[[1,2],[2,3],[3,1]],\"r\":[[6,5],[7,7],[8,6]]}"
   ]
  },
  {
   "cell_type": "code",
   "execution_count": 83,
   "metadata": {},
   "outputs": [],
   "source": [
    "def k_nn(data,predict,k=3):\n",
    "    distance= []\n",
    "    for group in data:\n",
    "        for features in data[group]:\n",
    "            ecludian_distance = np.linalg.norm(np.array(features)-np.array(predict))\n",
    "            distance.append([ecludian_distance,group])\n",
    "    votes = [i[1] for i in sorted(distance)[:k]]\n",
    "    class_val= Counter(votes).most_common(1)[0][0]\n",
    "    return class_val\n",
    "\n",
    "def cleaning_data(df):\n",
    "    df.drop(['id'],axis=1,inplace=True)\n",
    "    df.replace(\"?\",-99999,inplace=True)\n",
    "    full_data = list(df.astype(float).values)\n",
    "    random.shuffle(full_data)\n",
    "    return full_data\n",
    "\n",
    "def test_train_split_custom(data):\n",
    "    test_size = 0.2\n",
    "    train_set = {2:[],4:[]}\n",
    "    test_set = {2:[],4:[]}\n",
    "    train_data = data[:-int(test_size*len(data))]\n",
    "    test_data = data[-int(test_size*len(data)):]\n",
    "    for i in train_data:\n",
    "        train_set[i[-1]].append(i[:-1])\n",
    "    for i in test_data:\n",
    "        test_set[i[-1]].append(i[:-1])\n",
    "    return train_set,test_set\n",
    "\n",
    "def predicting_values(train_set,test_set,k=3):\n",
    "    correct = 0\n",
    "    total = 0\n",
    "    for group in test_set:\n",
    "        for i in test_set[group]:\n",
    "            class_val = k_nn(train_set,i,k=k)\n",
    "            if group==class_val:\n",
    "                correct +=1\n",
    "            total+=1\n",
    "    print(correct/total)\n",
    "    return correct/total\n",
    "            "
   ]
  },
  {
   "cell_type": "code",
   "execution_count": 85,
   "metadata": {},
   "outputs": [
    {
     "name": "stdout",
     "output_type": "stream",
     "text": [
      "0.9856115107913669\n"
     ]
    }
   ],
   "source": [
    "df = pd.read_csv(\"./data/breast-cancer-wisconsin_data.txt\")  \n",
    "data = cleaning_data(df)\n",
    "train_set,test_set = test_train_split_custom(data)\n",
    "accuracy = predicting_values(train_set,test_set,k=5)"
   ]
  },
  {
   "cell_type": "code",
   "execution_count": 86,
   "metadata": {},
   "outputs": [
    {
     "name": "stdout",
     "output_type": "stream",
     "text": [
      "accuracy is 0.9856115107913669\n"
     ]
    }
   ],
   "source": [
    "print(\"accuracy is {}\".format(accuracy))"
   ]
  },
  {
   "cell_type": "code",
   "execution_count": null,
   "metadata": {},
   "outputs": [],
   "source": []
  },
  {
   "cell_type": "code",
   "execution_count": null,
   "metadata": {},
   "outputs": [],
   "source": []
  }
 ],
 "metadata": {
  "kernelspec": {
   "display_name": "Python 3",
   "language": "python",
   "name": "python3"
  },
  "language_info": {
   "codemirror_mode": {
    "name": "ipython",
    "version": 3
   },
   "file_extension": ".py",
   "mimetype": "text/x-python",
   "name": "python",
   "nbconvert_exporter": "python",
   "pygments_lexer": "ipython3",
   "version": "3.7.6"
  }
 },
 "nbformat": 4,
 "nbformat_minor": 4
}
