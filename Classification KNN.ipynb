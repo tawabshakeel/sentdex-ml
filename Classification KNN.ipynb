{
 "cells": [
  {
   "cell_type": "code",
   "execution_count": 11,
   "metadata": {},
   "outputs": [],
   "source": [
    "import numpy as np\n",
    "from sklearn import preprocessing,neighbors\n",
    "from sklearn.model_selection import train_test_split\n",
    "import pandas as pd"
   ]
  },
  {
   "cell_type": "code",
   "execution_count": 14,
   "metadata": {},
   "outputs": [],
   "source": [
    "def cleaning_data(df):\n",
    "    df.drop(['id'],axis=1,inplace=True)\n",
    "    df.replace(\"?\",-99999,inplace=True)\n",
    "    return df\n",
    "def separte_features_and_target(df):\n",
    "    X = np.array(df.drop(['class'],axis=1))\n",
    "    y = np.array(df['class'])\n",
    "    return X,y\n",
    "def splitting_train_test(X,y):\n",
    "    X_train,X_test,y_train,y_test = train_test_split(X,y,test_size=0.2)\n",
    "    return  X_train,X_test,y_train,y_test\n",
    "\n",
    "def model_building(X_train,y_train):\n",
    "    model = neighbors.KNeighborsClassifier()\n",
    "    model.fit(X_train,y_train)\n",
    "    return model\n",
    "def cal_accuracy(model,X_test,y_test):\n",
    "    accuracy = model.score(X_test,y_test)\n",
    "    return accuracy "
   ]
  },
  {
   "cell_type": "code",
   "execution_count": 20,
   "metadata": {},
   "outputs": [],
   "source": [
    "df = pd.read_csv(\"./data/breast-cancer-wisconsin_data.txt\")    \n",
    "df = cleaning_data(df)\n",
    "X,y = separte_features_and_target(df)\n",
    "X_train,X_test,y_train,y_test = splitting_train_test(X,y)\n",
    "model = model_building(X_train,y_train)"
   ]
  },
  {
   "cell_type": "code",
   "execution_count": 19,
   "metadata": {},
   "outputs": [
    {
     "data": {
      "text/plain": [
       "array([2, 4, 4, 4, 2, 4, 2, 2, 2, 4, 2, 2, 2, 2, 2, 4, 2, 2, 2, 2, 2, 4,\n",
       "       4, 4, 2, 2, 4, 2, 4, 4, 2, 4, 2, 4, 4, 4, 2, 2, 2, 4, 2, 4, 2, 2,\n",
       "       4, 2, 2, 2, 2, 4, 2, 2, 2, 4, 2, 4, 2, 2, 2, 2, 2, 4, 2, 2, 2, 2,\n",
       "       4, 2, 2, 2, 2, 2, 2, 2, 4, 2, 2, 2, 4, 2, 2, 2, 2, 4, 4, 2, 2, 2,\n",
       "       4, 2, 4, 4, 2, 2, 4, 4, 2, 4, 2, 2, 2, 2, 4, 2, 2, 4, 2, 2, 4, 2,\n",
       "       2, 2, 2, 2, 4, 4, 4, 2, 4, 2, 2, 2, 4, 4, 4, 2, 4, 2, 2, 2, 2, 2,\n",
       "       2, 2, 2, 2, 2, 4, 2, 2, 2, 2, 4, 2, 2, 4, 2, 4, 2, 2, 2, 4, 4, 2,\n",
       "       2, 4, 4, 2, 4, 2, 2, 2, 2, 4, 2, 2, 4, 2, 4, 4, 4, 2, 2, 2, 2, 2,\n",
       "       2, 2, 4, 2, 2, 2, 2, 2, 2, 2, 2, 4, 2, 2, 2, 4, 2, 2, 2, 2, 2, 2,\n",
       "       2, 2, 2, 2, 2, 2, 2, 4, 4, 4, 2, 2, 2, 2, 2, 4, 2, 4, 2, 4, 2, 4,\n",
       "       4, 4, 2, 2, 2, 4, 2, 2, 2, 4, 4, 2, 4, 2, 4, 2, 4, 4, 2, 2, 4, 2,\n",
       "       4, 4, 2, 4, 2, 2, 2, 2, 4, 4, 2, 2, 4, 2, 4, 4, 2, 4, 4, 2, 4, 4,\n",
       "       4, 2, 2, 2, 4, 2, 4, 2, 2, 2, 2, 2, 4, 2, 2, 4, 2, 2, 2, 2, 2, 2,\n",
       "       2, 2, 2, 4, 4, 2, 2, 2, 4, 4, 4, 2, 2, 4, 2, 4, 2, 4, 4, 2, 2, 4,\n",
       "       4, 4, 4, 2, 2, 2, 2, 2, 2, 2, 2, 2, 2, 2, 4, 2, 2, 4, 4, 4, 4, 4,\n",
       "       2, 2, 2, 4, 2, 2, 2, 2, 4, 2, 2, 2, 4, 2, 2, 2, 2, 2, 4, 2, 2, 2,\n",
       "       2, 4, 2, 2, 2, 2, 4, 4, 2, 2, 2, 4, 4, 4, 4, 4, 2, 2, 2, 2, 2, 2,\n",
       "       2, 4, 2, 4, 4, 2, 2, 4, 2, 4, 2, 2, 2, 2, 4, 2, 2, 4, 2, 4, 4, 2,\n",
       "       2, 2, 2, 4, 2, 4, 2, 2, 2, 2, 2, 2, 2, 2, 4, 2, 4, 4, 2, 4, 2, 4,\n",
       "       2, 2, 2, 4, 2, 2, 2, 4, 2, 4, 2, 4, 2, 4, 4, 2, 2, 2, 2, 2, 2, 4,\n",
       "       2, 2, 2, 4, 2, 2, 2, 2, 4, 4, 2, 2, 2, 2, 4, 2, 4, 2, 2, 4, 2, 2,\n",
       "       2, 2, 2, 4, 2, 4, 2, 4, 2, 4, 2, 2, 4, 2, 2, 2, 4, 4, 4, 2, 4, 2,\n",
       "       4, 2, 2, 2, 2, 2, 2, 4, 4, 2, 4, 2, 2, 2, 2, 2, 2, 2, 2, 2, 2, 4,\n",
       "       2, 2, 2, 2, 4, 4, 2, 2, 2, 4, 2, 2, 2, 4, 2, 2, 2, 4, 4, 4, 2, 4,\n",
       "       2, 4, 2, 4, 4, 4, 4, 2, 2, 2, 4, 4, 4, 2, 2, 2, 4, 4, 2, 2, 2, 2,\n",
       "       4, 2, 2, 4, 2, 2, 4, 4, 2], dtype=int64)"
      ]
     },
     "execution_count": 19,
     "metadata": {},
     "output_type": "execute_result"
    }
   ],
   "source": []
  },
  {
   "cell_type": "code",
   "execution_count": null,
   "metadata": {},
   "outputs": [],
   "source": []
  }
 ],
 "metadata": {
  "kernelspec": {
   "display_name": "Python 3",
   "language": "python",
   "name": "python3"
  },
  "language_info": {
   "codemirror_mode": {
    "name": "ipython",
    "version": 3
   },
   "file_extension": ".py",
   "mimetype": "text/x-python",
   "name": "python",
   "nbconvert_exporter": "python",
   "pygments_lexer": "ipython3",
   "version": "3.7.6"
  }
 },
 "nbformat": 4,
 "nbformat_minor": 4
}
